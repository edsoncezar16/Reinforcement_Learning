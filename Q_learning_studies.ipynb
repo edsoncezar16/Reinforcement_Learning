{
  "nbformat": 4,
  "nbformat_minor": 0,
  "metadata": {
    "colab": {
      "name": "Q_learning_studies.ipynb",
      "provenance": [],
      "collapsed_sections": [],
      "include_colab_link": true
    },
    "kernelspec": {
      "name": "python3",
      "display_name": "Python 3"
    }
  },
  "cells": [
    {
      "cell_type": "markdown",
      "metadata": {
        "id": "view-in-github",
        "colab_type": "text"
      },
      "source": [
        "<a href=\"https://colab.research.google.com/github/edsoncezar16/Reinforcement_Learning/blob/main/Q_learning_studies.ipynb\" target=\"_parent\"><img src=\"https://colab.research.google.com/assets/colab-badge.svg\" alt=\"Open In Colab\"/></a>"
      ]
    },
    {
      "cell_type": "markdown",
      "metadata": {
        "id": "Far---2BbJNy"
      },
      "source": [
        "# Q-learning Agent with environment-adaptive decay rates\n",
        "\n",
        "## Abstract \n",
        "\n",
        "We develop a Q-learning Agent class with exponential decay of exploration probability and learning rate. We provide heuristics for the characteristic decaying time and investigate the effect of non-zero asymptotic values. We test the agent on several openAI gym environments and verify that the provided heuristic performs quite well, that asymptotic exploration probabilities degrade performance, and asymptotic learning rates degrade sample efficiency.\n",
        "\n",
        "\n",
        "## FrozenLake\n",
        "\n",
        "We discuss here the information available in the [description of the environment](https://gym.openai.com/envs/FrozenLake-v0/) that are relevant for our task.\n",
        "\n",
        "Regarding the environment dynamics, we have the following:\n",
        "\n",
        ">The agent controls the movement of a character in a grid world. Some tiles of the grid are walkable, and others lead to the agent falling into the water. Additionally, the movement direction of the agent is uncertain and only partially depends on the chosen direction. The agent is rewarded for finding a walkable path to a goal tile.\n",
        "\n",
        "Therefore, this is a **stochastic** environment, so that the return of a single episode is not an appropriate performance metric. Instead, we will use an *exponentially weighted average* return.\n",
        "\n",
        "Regargind the rewards:\n",
        "\n",
        ">The surface is described using a grid like the following:\n",
        "\n",
        ">SFFF       (S: starting point, safe)\n",
        "\n",
        ">FHFH       (F: frozen surface, safe)\n",
        "\n",
        ">FFFH       (H: hole, fall to your doom)\n",
        "\n",
        ">HFFG       (G: goal, where the frisbee is located)\n",
        "\n",
        ">The episode ends when you reach the goal or fall in a hole. You receive a reward of 1 if you reach the goal, and zero otherwise.\n",
        "\n",
        "Since there is no penalty for the agent when taking too long to reach the goal, we should set up the parameter $\\gamma$ to be less than unity, as this will encourage the agent to finish the task as quickly as possible."
      ]
    },
    {
      "cell_type": "markdown",
      "metadata": {
        "id": "pfnMZOH8kvPQ"
      },
      "source": [
        "## Import libraries"
      ]
    },
    {
      "cell_type": "code",
      "metadata": {
        "id": "1QVL_nqjvLyr"
      },
      "source": [
        "import numpy as np\n",
        "import matplotlib.pyplot as plt\n",
        "import gym\n",
        "import joblib"
      ],
      "execution_count": 1,
      "outputs": []
    },
    {
      "cell_type": "markdown",
      "metadata": {
        "id": "la6aHQ0uJ8nG"
      },
      "source": [
        "## Creating the environment"
      ]
    },
    {
      "cell_type": "code",
      "metadata": {
        "colab": {
          "base_uri": "https://localhost:8080/"
        },
        "id": "GY6BetOQvXf7",
        "outputId": "471c2bc4-e7c2-4f54-8fb9-152f3d5e3679"
      },
      "source": [
        "FrozenLake8x8=gym.make('FrozenLake8x8-v0')\n",
        "\n",
        "# visualize the environment\n",
        "FrozenLake8x8.render()"
      ],
      "execution_count": 2,
      "outputs": [
        {
          "output_type": "stream",
          "text": [
            "\n",
            "\u001b[41mS\u001b[0mFFFFFFF\n",
            "FFFFFFFF\n",
            "FFFHFFFF\n",
            "FFFFFHFF\n",
            "FFFHFFFF\n",
            "FHHFFFHF\n",
            "FHFFHFHF\n",
            "FFFHFFFG\n"
          ],
          "name": "stdout"
        }
      ]
    },
    {
      "cell_type": "markdown",
      "metadata": {
        "id": "S20OxVD0KClw"
      },
      "source": [
        "### Visualizing sample transitions "
      ]
    },
    {
      "cell_type": "code",
      "metadata": {
        "colab": {
          "base_uri": "https://localhost:8080/"
        },
        "id": "hxIdPp7BKKhD",
        "outputId": "1828fe15-2a8b-4881-de0e-f317cdd9d7ed"
      },
      "source": [
        "for _ in range(5):\n",
        "\n",
        "    state=FrozenLake8x8.observation_space.sample()\n",
        "    print('Sample state:'+str(state))\n",
        "    for action, transitions in FrozenLake8x8.P[state].items():\n",
        "         print(\"\")\n",
        "         print(\"Action:\"+str(action))\n",
        "         print(\"Possible transitions:\")\n",
        "         for transition in transitions:\n",
        "             print(transition)\n",
        "    print(\"#############################################\\n\")"
      ],
      "execution_count": 3,
      "outputs": [
        {
          "output_type": "stream",
          "text": [
            "Sample state:51\n",
            "\n",
            "Action:0\n",
            "Possible transitions:\n",
            "(0.3333333333333333, 43, 0.0, False)\n",
            "(0.3333333333333333, 50, 0.0, False)\n",
            "(0.3333333333333333, 59, 0.0, True)\n",
            "\n",
            "Action:1\n",
            "Possible transitions:\n",
            "(0.3333333333333333, 50, 0.0, False)\n",
            "(0.3333333333333333, 59, 0.0, True)\n",
            "(0.3333333333333333, 52, 0.0, True)\n",
            "\n",
            "Action:2\n",
            "Possible transitions:\n",
            "(0.3333333333333333, 59, 0.0, True)\n",
            "(0.3333333333333333, 52, 0.0, True)\n",
            "(0.3333333333333333, 43, 0.0, False)\n",
            "\n",
            "Action:3\n",
            "Possible transitions:\n",
            "(0.3333333333333333, 52, 0.0, True)\n",
            "(0.3333333333333333, 43, 0.0, False)\n",
            "(0.3333333333333333, 50, 0.0, False)\n",
            "#############################################\n",
            "\n",
            "Sample state:27\n",
            "\n",
            "Action:0\n",
            "Possible transitions:\n",
            "(0.3333333333333333, 19, 0.0, True)\n",
            "(0.3333333333333333, 26, 0.0, False)\n",
            "(0.3333333333333333, 35, 0.0, True)\n",
            "\n",
            "Action:1\n",
            "Possible transitions:\n",
            "(0.3333333333333333, 26, 0.0, False)\n",
            "(0.3333333333333333, 35, 0.0, True)\n",
            "(0.3333333333333333, 28, 0.0, False)\n",
            "\n",
            "Action:2\n",
            "Possible transitions:\n",
            "(0.3333333333333333, 35, 0.0, True)\n",
            "(0.3333333333333333, 28, 0.0, False)\n",
            "(0.3333333333333333, 19, 0.0, True)\n",
            "\n",
            "Action:3\n",
            "Possible transitions:\n",
            "(0.3333333333333333, 28, 0.0, False)\n",
            "(0.3333333333333333, 19, 0.0, True)\n",
            "(0.3333333333333333, 26, 0.0, False)\n",
            "#############################################\n",
            "\n",
            "Sample state:54\n",
            "\n",
            "Action:0\n",
            "Possible transitions:\n",
            "(1.0, 54, 0, True)\n",
            "\n",
            "Action:1\n",
            "Possible transitions:\n",
            "(1.0, 54, 0, True)\n",
            "\n",
            "Action:2\n",
            "Possible transitions:\n",
            "(1.0, 54, 0, True)\n",
            "\n",
            "Action:3\n",
            "Possible transitions:\n",
            "(1.0, 54, 0, True)\n",
            "#############################################\n",
            "\n",
            "Sample state:58\n",
            "\n",
            "Action:0\n",
            "Possible transitions:\n",
            "(0.3333333333333333, 50, 0.0, False)\n",
            "(0.3333333333333333, 57, 0.0, False)\n",
            "(0.3333333333333333, 58, 0.0, False)\n",
            "\n",
            "Action:1\n",
            "Possible transitions:\n",
            "(0.3333333333333333, 57, 0.0, False)\n",
            "(0.3333333333333333, 58, 0.0, False)\n",
            "(0.3333333333333333, 59, 0.0, True)\n",
            "\n",
            "Action:2\n",
            "Possible transitions:\n",
            "(0.3333333333333333, 58, 0.0, False)\n",
            "(0.3333333333333333, 59, 0.0, True)\n",
            "(0.3333333333333333, 50, 0.0, False)\n",
            "\n",
            "Action:3\n",
            "Possible transitions:\n",
            "(0.3333333333333333, 59, 0.0, True)\n",
            "(0.3333333333333333, 50, 0.0, False)\n",
            "(0.3333333333333333, 57, 0.0, False)\n",
            "#############################################\n",
            "\n",
            "Sample state:62\n",
            "\n",
            "Action:0\n",
            "Possible transitions:\n",
            "(0.3333333333333333, 54, 0.0, True)\n",
            "(0.3333333333333333, 61, 0.0, False)\n",
            "(0.3333333333333333, 62, 0.0, False)\n",
            "\n",
            "Action:1\n",
            "Possible transitions:\n",
            "(0.3333333333333333, 61, 0.0, False)\n",
            "(0.3333333333333333, 62, 0.0, False)\n",
            "(0.3333333333333333, 63, 1.0, True)\n",
            "\n",
            "Action:2\n",
            "Possible transitions:\n",
            "(0.3333333333333333, 62, 0.0, False)\n",
            "(0.3333333333333333, 63, 1.0, True)\n",
            "(0.3333333333333333, 54, 0.0, True)\n",
            "\n",
            "Action:3\n",
            "Possible transitions:\n",
            "(0.3333333333333333, 63, 1.0, True)\n",
            "(0.3333333333333333, 54, 0.0, True)\n",
            "(0.3333333333333333, 61, 0.0, False)\n",
            "#############################################\n",
            "\n"
          ],
          "name": "stdout"
        }
      ]
    },
    {
      "cell_type": "markdown",
      "metadata": {
        "id": "Q4Ivo7HvkXjM"
      },
      "source": [
        "From the [Github source](https://github.com/openai/gym/blob/master/gym/envs/toy_text/frozen_lake.py), we know the action meanings are:\n",
        "\n",
        "* 0: left\n",
        "* 1: down\n",
        "* 2: right\n",
        "* 3: up\n",
        "\n",
        "Therefore, from these sample transitions, we might infer that the environment dynamics is as follows: after selecting an action a, there is 1/3 probability the agent will manage to do it, 1/3 it will end up executing action a-1 mod 4, and 1/3 it will end up doing action a+1 mod 4. These dynamics simulate slipping."
      ]
    },
    {
      "cell_type": "markdown",
      "metadata": {
        "id": "ue67YjG4Z5yc"
      },
      "source": [
        "## Implementing a Q-learning Agent class\n",
        "\n",
        "We will use the following $\\epsilon$ parameter schedule:\n",
        "$$\\epsilon(n)=\\epsilon_\\infty+(1-\\epsilon_\\infty)\\exp\\left(-\\frac{n}{n_d}\\right),$$\n",
        "\n",
        "or\n",
        "$$\\epsilon(n+1)=\\exp\\left(-\\frac{1}{n_d}\\right)\\epsilon(n)+\\left(1-\\exp\\left(-\\frac{1}{n_d}\\right)\\right) \\epsilon_\\infty, \\epsilon(0)=1,$$\n",
        "where $n$ is the number of episodes the agent has played, and $n_d$ is a decay constant. The goal here is to investigate to what extent the terminal exploration probability $\\epsilon_\\infty$ impacts the asymptotic performance.\n",
        "\n",
        "To set a reasonable value for $n_d$, we will follow this heuristic: the more complex the environment is, the more episodes the agent needs to learn something significant about each state-action value. The environment parameters that seem more relevant to characterize such environment complexity are the number of state-action pairs and possible transitions. Therefore, we estimate that the decay constant should be close to:\n",
        "$$n_d=env.nS*env.nA*\\bar{t}$$,\n",
        "where $\\bar{t}$ is the average number of possible transitions after taking some action."
      ]
    },
    {
      "cell_type": "markdown",
      "metadata": {
        "id": "muoNsYMRZDoL"
      },
      "source": [
        "We also note that similar reasoning applies to the learning rate: at the beginning, we want the agent to react strongly to recent rewards since it has no clue about the action values. However, we want the learning process to become smoother as the agent becomes more experienced so that the Q values estimates become stable. However, in general, we want a non-zero terminal value $\\alpha_\\infty$ because the agent should always be learning at a sensible rate in case the environment dynamics change.  \n",
        "\n",
        "Therefore, we will also implement a decaying learning rate with a simillar schedule:\n",
        "\n",
        "$$\\alpha(n)=\\alpha_\\infty+(1-\\alpha_\\infty)\\exp\\left(-\\frac{n}{n_d}\\right),$$\n",
        "\n",
        "or\n",
        "\n",
        "$$\\alpha(n+1)=\\exp\\left(-\\frac{1}{n_d}\\right)\\alpha(n)+\\left(1-\\exp\\left(-\\frac{1}{n_d}\\right)\\right) \\alpha_\\infty, \\alpha(0)=1,$$\n",
        "\n",
        "using the same decay constant of the $\\epsilon$ parameter for simplicity.\n",
        "\n",
        "The terminal values for these parameters are relevant in **non-stationary** environments because we always want exploration and learning at sensible rates to account for the changes in the environmental dynamics. \n",
        "\n",
        "However, in this case, we have a **stationary** environment, so that we set these terminal values to 0.0 as default and investigate the effects of non-zero values later on."
      ]
    },
    {
      "cell_type": "code",
      "metadata": {
        "id": "GJrdHWlaZn_D"
      },
      "source": [
        "class Q_learning_Agent():\n",
        "    \"\"\"\n",
        "    A Q-learning agent that adapts to environments with discrete state and \n",
        "    action spaces and uses environment adaptive exponential decay for the\n",
        "    exploration probability and the learning rate.\n",
        "\n",
        "    Args:\n",
        "        name (str): the agent's name.\n",
        "        gamma (float): the discount factor (defaults to 1.0).\n",
        "        alpha_inf (float): the asymptotic learning rate (defaults to 0.01).\n",
        "        epsilon_inf (float): the asymptotic exploration probability (defaults to\n",
        "            0.01).\n",
        "    \n",
        "    Attributes:\n",
        "        name (str): the agent's name.\n",
        "        gamma (float): the discount factor. \n",
        "        alpha_inf (float): the asymptotic learning rate.\n",
        "        epsilon_inf (float): the asymptotic exploration probability.\n",
        "        Q (numpy.ndarray): the agent's Q table.\n",
        "        history (list): contains the returns from every episode the agent has \n",
        "            played.\n",
        "        decay_weight (float): defines the learning rate and exploration\n",
        "            probability for the next episode.\n",
        "        alpha (float): the current learning rate.\n",
        "        epsilon (float): the current exploration probability.\n",
        "        state (int): the agent's current state.\n",
        "        previous_state (int): the agent's previous state\n",
        "        action (int): the last chosen action.\n",
        "  \n",
        "    Methods: \n",
        "        compute_decay_weight\n",
        "        reset_to_env\n",
        "        play\n",
        "    \"\"\"\n",
        "\n",
        "    def __init__(self, name, gamma=1.00, alpha_inf=0.01, epsilon_inf=0.01): \n",
        "        self.name=name \n",
        "        self.gamma=gamma\n",
        "        self.alpha_inf=alpha_inf\n",
        "        self.epsilon_inf=epsilon_inf\n",
        "        self.Q=None \n",
        "        self.history=None\n",
        "        self.decay_weight=None \n",
        "        self.alpha=None\n",
        "        self.epsilon=None\n",
        "        self.state=None\n",
        "        self.previous_state=None\n",
        "        self.action=None\n",
        "    \n",
        "    def compute_decay_weight(self, environment):\n",
        "        \"\"\"\n",
        "        Sets the agent's decay weight based on the environment's complexity.\n",
        "\n",
        "        Args:\n",
        "            environment (openAI gym environment): the environment we want the \n",
        "                agent to learn. Must have discrete space and action spaces.\n",
        "        \n",
        "        Returns:\n",
        "            None \n",
        "        \"\"\"\n",
        "\n",
        "        #average transitions number computation\n",
        "        t_avg=0\n",
        "        for state in range(environment.nS):\n",
        "            for action in range(environment.nA):\n",
        "                t_avg+=len(environment.P[state][action])\n",
        "        t_avg=int(round(t_avg/(environment.nS*environment.nA)))\n",
        "        self.decay_weight=1.0-np.exp(-1/(t_avg*environment.nA*environment.nS))\n",
        "    \n",
        "    def reset_to_env(self,environment):\n",
        "        \"\"\" \n",
        "        Resets the agent's attributes to begin learning on a new environment.\n",
        "\n",
        "        Args:\n",
        "            environment (openAI gym environment): the environment we want the \n",
        "                agent to learn. Must have discrete space and action spaces.\n",
        "      \n",
        "        Returns:\n",
        "            None\n",
        "        \"\"\"\n",
        "\n",
        "        self.Q=np.zeros((environment.nS, environment.nA))\n",
        "        self.history=[]\n",
        "        self.compute_decay_weight(environment)\n",
        "        self.alpha=1.0\n",
        "        self.epsilon=1.0\n",
        "\n",
        "    def play(self, environment, episodes=None, view=False):\n",
        "        \"\"\"\n",
        "        Agent plays some episodes on the environment, learns and stores the \n",
        "        episodes returns on it's 'history'.\n",
        "\n",
        "        Args:\n",
        "            environment (openAI gym environment): the environment we want the \n",
        "                agent to learn. Must have discrete space and action spaces.\n",
        "            episodes (int/None): the number of episodes to play. If None, it is\n",
        "                set to 10 times the characteristic decay time of the agent's\n",
        "                parameters (defaults to None).\n",
        "            view (bool): whether or not to render the interaction (defaults to\n",
        "                False).\n",
        "\n",
        "        Returns:\n",
        "            None\n",
        "        \"\"\"\n",
        "\n",
        "        if episodes is None:\n",
        "            episodes=10*int(round(1.0/np.log(1.0/(1.0-self.decay_weight))))\n",
        "\n",
        "        for _ in range(episodes):\n",
        "            self.previous_state=None\n",
        "            self.state = environment.reset() # initial state for episode\n",
        "            time_step=0\n",
        "            episode_return=0.0\n",
        "\n",
        "            while True:\n",
        "                if view:\n",
        "                    environment.render()\n",
        "\n",
        "                # action selection\n",
        "                if np.random.rand()<self.epsilon: # explore\n",
        "                    self.action=np.random.choice(environment.nA)\n",
        "                else: # exploit\n",
        "                    self.action=np.random.choice(np.flatnonzero(self.Q[self.state]==np.amax(self.Q[self.state]))) # argmax with random \n",
        "                    # breaking ties\n",
        "\n",
        "                # Observation \n",
        "                self.previous_state=self.state\n",
        "                self.state, reward, done, info = environment.step(self.action)\n",
        "                episode_return+=reward*self.gamma**time_step\n",
        "\n",
        "                # Q learning\n",
        "                self.Q[self.previous_state][self.action]+=self.alpha*\\\n",
        "                (reward+self.gamma*np.amax(self.Q[self.state])-self.Q[self.previous_state][self.action])       \n",
        "              \n",
        "                if done == True: # end of episode\n",
        "                    if view:\n",
        "                        environment.render()\n",
        "                    break\n",
        "                time_step+=1\n",
        "\n",
        "            self.epsilon=(1.0-self.decay_weight)*self.epsilon+self.decay_weight*self.epsilon_inf # exponential epsilon decay\n",
        "            self.alpha=(1.0-self.decay_weight)*self.alpha+self.decay_weight*self.alpha_inf # exponential alpha decay\n",
        "            self.history.append(episode_return) # save episodes' return to agent's history.\n"
      ],
      "execution_count": 44,
      "outputs": []
    },
    {
      "cell_type": "markdown",
      "metadata": {
        "id": "RSKfKurqIVad"
      },
      "source": [
        "## Tracking the learning process of Olaf, a FrozenLake Q-learning agent"
      ]
    },
    {
      "cell_type": "code",
      "metadata": {
        "id": "6CqL-kBXV6Z4"
      },
      "source": [
        "def view_performance_history(agents_list, weight=None):\n",
        "    \"\"\"\n",
        "    Plots the exponentially weighted average of the history's returns for each\n",
        "    agent on a list. \n",
        "\n",
        "    Args:\n",
        "        agents_list (list): contains the agents for performance visualization.\n",
        "        weight (float/None): the weight for the exponentially weighted average. \n",
        "            If None, it is set according to the agent's decay weight on each \n",
        "            plot (defaults to None).\n",
        "            \n",
        "    Returns:\n",
        "        None\n",
        "    \"\"\"\n",
        "    for agent in agents_list:\n",
        "        if weight is None:\n",
        "            weight=agent.decay_weight\n",
        "        performances_list=[agent.history[0]]\n",
        "        for episode_return in agent.history[1:]:\n",
        "            performances_list.append(weight*episode_return+(1.0-weight)*performances_list[-1])\n",
        "        plt.plot(1+np.array(range(len(performances_list))).astype(int), performances_list,'.')\n",
        "    plt.xlabel('Episodes played')\n",
        "    plt.ylabel('Performance')\n",
        "    plt.title(\"Performance history\")\n",
        "    plt.legend([agent.name for agent in agents_list ])\n",
        "    plt.show()"
      ],
      "execution_count": 24,
      "outputs": []
    },
    {
      "cell_type": "code",
      "metadata": {
        "id": "aDOnRG6ifBz3"
      },
      "source": [
        "Olaf=Q_learning_Agent(name='Olaf', gamma=0.99, alpha_inf=0.0, epsilon_inf=0.0)\n",
        "Olaf.reset_to_env(FrozenLake8x8)"
      ],
      "execution_count": 49,
      "outputs": []
    },
    {
      "cell_type": "code",
      "metadata": {
        "colab": {
          "base_uri": "https://localhost:8080/",
          "height": 295
        },
        "id": "FgxS1OxkKsVT",
        "outputId": "4e9d3dbe-e127-44db-aa31-ce6d494ffeba"
      },
      "source": [
        "Olaf.play(FrozenLake8x8)\n",
        "view_performance_history([Olaf])"
      ],
      "execution_count": 50,
      "outputs": [
        {
          "output_type": "display_data",
          "data": {
            "image/png": "[encoded data removed]",
            "text/plain": [
              "<Figure size 432x288 with 1 Axes>"
            ]
          },
          "metadata": {
            "tags": [],
            "needs_background": "light"
          }
        }
      ]
    },
    {
      "cell_type": "code",
      "metadata": {
        "colab": {
          "base_uri": "https://localhost:8080/"
        },
        "id": "jEbDGMW9OvXu",
        "outputId": "93002740-78b7-4495-9d77-d8ba624eeede"
      },
      "source": [
        "N=int(round(1.0/np.log(1.0/(1.0-Olaf.decay_weight))))\n",
        "N"
      ],
      "execution_count": 51,
      "outputs": [
        {
          "output_type": "execute_result",
          "data": {
            "text/plain": [
              "768"
            ]
          },
          "metadata": {
            "tags": []
          },
          "execution_count": 51
        }
      ]
    },
    {
      "cell_type": "code",
      "metadata": {
        "colab": {
          "base_uri": "https://localhost:8080/"
        },
        "id": "fCbBxKs9L-Lf",
        "outputId": "8396a3f2-cef5-426a-de9b-48d17248e0ce"
      },
      "source": [
        "sum(Olaf.history[-N:])/N"
      ],
      "execution_count": 52,
      "outputs": [
        {
          "output_type": "execute_result",
          "data": {
            "text/plain": [
              "0.4027705639107606"
            ]
          },
          "metadata": {
            "tags": []
          },
          "execution_count": 52
        }
      ]
    },
    {
      "cell_type": "markdown",
      "metadata": {
        "id": "JEQn0VPvei0K"
      },
      "source": [
        "The asymptotic performance of Olaf is around $P=0.40$. Since the return for a single goal achieved episode is $\\gamma^T$, where $T$ is the number of time_steps needed for completion, we can see that, on average, Olaf takes $T=\\frac{\\log(P)}{\\log(\\gamma)}\\approx 91$ time steps to achieve the goal when playing on its maximum skill level. \n",
        "\n",
        "In comparison, if this were a deterministic GridWorld environment, it would take 14 time steps for an optimal agent to finish the task!"
      ]
    },
    {
      "cell_type": "code",
      "metadata": {
        "id": "TteaTLLDZScM"
      },
      "source": [
        "#Olaf.play(FrozenLake8x8, episodes=1, view=True)"
      ],
      "execution_count": null,
      "outputs": []
    },
    {
      "cell_type": "code",
      "metadata": {
        "colab": {
          "base_uri": "https://localhost:8080/"
        },
        "id": "RiEJErvjLHnB",
        "outputId": "0793e558-c148-4525-fe15-db38fbb1e9c3"
      },
      "source": [
        "joblib.dump(Olaf, 'Olaf')"
      ],
      "execution_count": 54,
      "outputs": [
        {
          "output_type": "execute_result",
          "data": {
            "text/plain": [
              "['Olaf']"
            ]
          },
          "metadata": {
            "tags": []
          },
          "execution_count": 54
        }
      ]
    },
    {
      "cell_type": "markdown",
      "metadata": {
        "id": "Moz5yhMrhnSA"
      },
      "source": [
        "## Performance impact of asymptotic learning rates."
      ]
    },
    {
      "cell_type": "code",
      "metadata": {
        "id": "DDKqNvKMi9hU"
      },
      "source": [
        "agents_list=[]\n",
        "for inf_value in np.logspace(-3,0,num=5, endpoint=False):\n",
        "    agents_list.append(Q_learning_Agent(name='alpha_inf='+str(round(inf_value,3)), alpha_inf=inf_value))\n"
      ],
      "execution_count": null,
      "outputs": []
    },
    {
      "cell_type": "code",
      "metadata": {
        "colab": {
          "base_uri": "https://localhost:8080/",
          "height": 295
        },
        "id": "FPFqmWbCOVYT",
        "outputId": "0317ae17-4e0f-4562-b2da-5b1333836930"
      },
      "source": [
        "for agent in agents_list:\n",
        "    agent.reset_to_env(FrozenLake8x8)\n",
        "    agent.play(FrozenLake8x8)\n",
        "view_performance_history(agents_list)"
      ],
      "execution_count": null,
      "outputs": [
        {
          "output_type": "display_data",
          "data": {
            "image/png": "[encoded data removed]",
            "text/plain": [
              "<Figure size 432x288 with 1 Axes>"
            ]
          },
          "metadata": {
            "tags": [],
            "needs_background": "light"
          }
        }
      ]
    },
    {
      "cell_type": "markdown",
      "metadata": {
        "id": "56Gj7VyHUU9i"
      },
      "source": [
        "## Performance impact of asymptotic exploraition probabilities."
      ]
    },
    {
      "cell_type": "code",
      "metadata": {
        "id": "F9K-7lMLUcgr"
      },
      "source": [
        "agents_list.clear()\n",
        "for inf_value in np.logspace(-3,0,num=5, endpoint=False):\n",
        "    agents_list.append(Q_learning_Agent(name='epsilon_inf='+str(round(inf_value,3)), epsilon_inf=inf_value, alpha_inf=0.05))"
      ],
      "execution_count": null,
      "outputs": []
    },
    {
      "cell_type": "code",
      "metadata": {
        "colab": {
          "base_uri": "https://localhost:8080/",
          "height": 295
        },
        "id": "89c-QO0EcM2N",
        "outputId": "350efcbf-6eb5-4d76-d2e1-7082e0d6be33"
      },
      "source": [
        "for agent in agents_list:\n",
        "    agent.reset_to_env(FrozenLake8x8)\n",
        "    agent.play(FrozenLake8x8)\n",
        "view_performance_history(agents_list)"
      ],
      "execution_count": null,
      "outputs": [
        {
          "output_type": "display_data",
          "data": {
            "image/png": "[encoded data removed]",
            "text/plain": [
              "<Figure size 432x288 with 1 Axes>"
            ]
          },
          "metadata": {
            "tags": [],
            "needs_background": "light"
          }
        }
      ]
    },
    {
      "cell_type": "markdown",
      "metadata": {
        "id": "QCceSb4fod82"
      },
      "source": [
        "## Conclusions"
      ]
    },
    {
      "cell_type": "markdown",
      "metadata": {
        "id": "btnsvfNLrT42"
      },
      "source": [
        "* We demonstrated that a terminal exploration degrades asymptotic performance, although this effect became significant only for $\\epsilon_\\infty$ around $5\\%$ or better in this study.\n",
        "\n",
        "* In contrast, the $\\alpha_\\infty$ parameter did not affect the asymptotic performance, but large values significantly diminish sample efficiency.\n",
        "\n",
        "* The heuristic $n_d=env.nS*env.nA*\\bar{t}$ turned out to work quite well, at least in this task. Of course, it will have limitations for larger environments. Nevertheless, even in those cases, it might be useful as a baseline to think about how long it will take for the agent to master a certain environment."
      ]
    },
    {
      "cell_type": "markdown",
      "metadata": {
        "id": "10SiGmHU0ZnB"
      },
      "source": [
        "# Testing the heuristics in other environments"
      ]
    },
    {
      "cell_type": "markdown",
      "metadata": {
        "id": "0vvzkyue-52J"
      },
      "source": [
        "## Taxi-v3"
      ]
    },
    {
      "cell_type": "code",
      "metadata": {
        "colab": {
          "base_uri": "https://localhost:8080/"
        },
        "id": "3o6RkJNqk46h",
        "outputId": "2e957936-d6a8-42d2-c1e0-35f6bd96366f"
      },
      "source": [
        "Taxi=gym.make('Taxi-v3')\n",
        "Taxi.render()"
      ],
      "execution_count": 55,
      "outputs": [
        {
          "output_type": "stream",
          "text": [
            "+---------+\n",
            "|\u001b[34;1mR\u001b[0m: | : :\u001b[35mG\u001b[0m|\n",
            "| : | : : |\n",
            "| : :\u001b[43m \u001b[0m: : |\n",
            "| | : | : |\n",
            "|Y| : |B: |\n",
            "+---------+\n",
            "\n"
          ],
          "name": "stdout"
        }
      ]
    },
    {
      "cell_type": "code",
      "metadata": {
        "id": "m2CfOQMz0fXx"
      },
      "source": [
        "Ranjit=Q_learning_Agent(name='Ranjit', alpha_inf=0.0, epsilon_inf=0.0)\n",
        "Ranjit.reset_to_env(environment=Taxi)"
      ],
      "execution_count": 56,
      "outputs": []
    },
    {
      "cell_type": "code",
      "metadata": {
        "colab": {
          "base_uri": "https://localhost:8080/",
          "height": 295
        },
        "id": "Bw4hvftmlmAD",
        "outputId": "ed1f1dc5-c2b5-4019-88d0-63f2f12a299f"
      },
      "source": [
        "Ranjit.play(Taxi)\n",
        "view_performance_history([Ranjit])"
      ],
      "execution_count": 57,
      "outputs": [
        {
          "output_type": "display_data",
          "data": {
            "image/png": "[encoded data removed]",
            "text/plain": [
              "<Figure size 432x288 with 1 Axes>"
            ]
          },
          "metadata": {
            "tags": [],
            "needs_background": "light"
          }
        }
      ]
    },
    {
      "cell_type": "code",
      "metadata": {
        "colab": {
          "base_uri": "https://localhost:8080/"
        },
        "id": "b8IngNXGSIwZ",
        "outputId": "ad26c7c7-31be-451e-a6f6-1bd9f943b9bf"
      },
      "source": [
        "N=int(round(1.0/np.log(1.0/(1.0-Ranjit.decay_weight))))\n",
        "N"
      ],
      "execution_count": 58,
      "outputs": [
        {
          "output_type": "execute_result",
          "data": {
            "text/plain": [
              "3000"
            ]
          },
          "metadata": {
            "tags": []
          },
          "execution_count": 58
        }
      ]
    },
    {
      "cell_type": "code",
      "metadata": {
        "colab": {
          "base_uri": "https://localhost:8080/"
        },
        "id": "FGWbP1-Umt_b",
        "outputId": "e214c07c-cbba-4cef-f91c-ce1441772d1e"
      },
      "source": [
        "sum(Ranjit.history[-N:])/N"
      ],
      "execution_count": 59,
      "outputs": [
        {
          "output_type": "execute_result",
          "data": {
            "text/plain": [
              "7.887"
            ]
          },
          "metadata": {
            "tags": []
          },
          "execution_count": 59
        }
      ]
    },
    {
      "cell_type": "markdown",
      "metadata": {
        "id": "8VrdnoL4_A_n"
      },
      "source": [
        "At this point, Ranjit takes 12 steps, on average, to complete a run."
      ]
    },
    {
      "cell_type": "code",
      "metadata": {
        "id": "NC8TMFOB-I52"
      },
      "source": [
        "#Ranjit.play(Taxi, episodes=1, view=True)"
      ],
      "execution_count": null,
      "outputs": []
    },
    {
      "cell_type": "code",
      "metadata": {
        "colab": {
          "base_uri": "https://localhost:8080/"
        },
        "id": "5Cj0HftooXkL",
        "outputId": "12851940-5e07-4bd8-8e84-459a22f00ac2"
      },
      "source": [
        "joblib.dump(Ranjit, 'Ranjit')"
      ],
      "execution_count": 61,
      "outputs": [
        {
          "output_type": "execute_result",
          "data": {
            "text/plain": [
              "['Ranjit']"
            ]
          },
          "metadata": {
            "tags": []
          },
          "execution_count": 61
        }
      ]
    }
  ]
}