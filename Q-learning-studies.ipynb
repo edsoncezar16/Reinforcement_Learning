{
  "nbformat": 4,
  "nbformat_minor": 0,
  "metadata": {
    "colab": {
      "name": "FrozenLake8x8_Qlearning_Edson.ipynb",
      "provenance": [],
      "collapsed_sections": []
    },
    "kernelspec": {
      "name": "python3",
      "display_name": "Python 3"
    }
  },
  "cells": [
    {
      "cell_type": "markdown",
      "metadata": {
        "id": "Far---2BbJNy"
      },
      "source": [
        "# Task 2: Implement a Q-learning Agent to play on a FrozenLake environment.\n",
        "\n",
        "## Abstract \n",
        "\n",
        "We develop a Q-learning Agent class with exponential decay of exploration probability and learning rate. We provide heuristics for the characteristic decaying time and investigate the effect of non-zero asymptotic values. We test the agent on a FrozenLake environment and verify that the provided heuristic is reasonably good, that asymptotic exploration probabilities degrade performance, and asymptotic learning rates degrade sample efficiency.\n",
        "\n",
        "\n",
        "## Description of the environment\n",
        "\n",
        "We discuss here the information available in the [description of the environment](https://gym.openai.com/envs/FrozenLake-v0/) that are relevant for our task.\n",
        "\n",
        "Regarding the environment dynamics, we have the following:\n",
        "\n",
        ">The agent controls the movement of a character in a grid world. Some tiles of the grid are walkable, and others lead to the agent falling into the water. Additionally, the movement direction of the agent is uncertain and only partially depends on the chosen direction. The agent is rewarded for finding a walkable path to a goal tile.\n",
        "\n",
        "Therefore, this is a **stochastic** environment, so that the return of a single episode is not an appropriate performance metric. Instead, we will use an *exponentially weighted average* return.\n",
        "\n",
        "Regargind the rewards:\n",
        "\n",
        ">The surface is described using a grid like the following:\n",
        "\n",
        ">SFFF       (S: starting point, safe)\n",
        "\n",
        ">FHFH       (F: frozen surface, safe)\n",
        "\n",
        ">FFFH       (H: hole, fall to your doom)\n",
        "\n",
        ">HFFG       (G: goal, where the frisbee is located)\n",
        "\n",
        ">The episode ends when you reach the goal or fall in a hole. You receive a reward of 1 if you reach the goal, and zero otherwise.\n",
        "\n",
        "Since there is no penalty for the agent when taking too long to reach the goal, we should set up the parameter $\\gamma$ to be less than unity, as this will encourage the agent to finish the task as quickly as possible."
      ]
    },
    {
      "cell_type": "markdown",
      "metadata": {
        "id": "pfnMZOH8kvPQ"
      },
      "source": [
        "## Import libraries"
      ]
    },
    {
      "cell_type": "code",
      "metadata": {
        "id": "1QVL_nqjvLyr"
      },
      "source": [
        "import numpy as np\n",
        "import matplotlib.pyplot as plt\n",
        "import gym"
      ],
      "execution_count": 1,
      "outputs": []
    },
    {
      "cell_type": "markdown",
      "metadata": {
        "id": "la6aHQ0uJ8nG"
      },
      "source": [
        "## Creating the environment"
      ]
    },
    {
      "cell_type": "code",
      "metadata": {
        "colab": {
          "base_uri": "https://localhost:8080/"
        },
        "id": "GY6BetOQvXf7",
        "outputId": "cc755b23-a87f-48cc-ca6a-a28465a31c7e"
      },
      "source": [
        "env=gym.make('FrozenLake8x8-v0')\n",
        "\n",
        "# visualize the environment\n",
        "env.render()"
      ],
      "execution_count": 2,
      "outputs": [
        {
          "output_type": "stream",
          "text": [
            "\n",
            "\u001b[41mS\u001b[0mFFFFFFF\n",
            "FFFFFFFF\n",
            "FFFHFFFF\n",
            "FFFFFHFF\n",
            "FFFHFFFF\n",
            "FHHFFFHF\n",
            "FHFFHFHF\n",
            "FFFHFFFG\n"
          ],
          "name": "stdout"
        }
      ]
    },
    {
      "cell_type": "markdown",
      "metadata": {
        "id": "S20OxVD0KClw"
      },
      "source": [
        "### Visualizing sample transitions "
      ]
    },
    {
      "cell_type": "code",
      "metadata": {
        "colab": {
          "base_uri": "https://localhost:8080/"
        },
        "id": "hxIdPp7BKKhD",
        "outputId": "a36d86c3-63bb-4573-d4ea-ab22e23866dc"
      },
      "source": [
        "for _ in range(5):\n",
        "\n",
        "    state=env.observation_space.sample()\n",
        "    print('Sample state:'+str(state))\n",
        "    for action, transitions in env.P[state].items():\n",
        "         print(\"\")\n",
        "         print(\"Action:\"+str(action))\n",
        "         print(\"Possible transitions:\")\n",
        "         for transition in transitions:\n",
        "             print(transition)\n",
        "    print(\"#############################################\\n\")"
      ],
      "execution_count": 3,
      "outputs": [
        {
          "output_type": "stream",
          "text": [
            "Sample state:54\n",
            "\n",
            "Action:0\n",
            "Possible transitions:\n",
            "(1.0, 54, 0, True)\n",
            "\n",
            "Action:1\n",
            "Possible transitions:\n",
            "(1.0, 54, 0, True)\n",
            "\n",
            "Action:2\n",
            "Possible transitions:\n",
            "(1.0, 54, 0, True)\n",
            "\n",
            "Action:3\n",
            "Possible transitions:\n",
            "(1.0, 54, 0, True)\n",
            "#############################################\n",
            "\n",
            "Sample state:6\n",
            "\n",
            "Action:0\n",
            "Possible transitions:\n",
            "(0.3333333333333333, 6, 0.0, False)\n",
            "(0.3333333333333333, 5, 0.0, False)\n",
            "(0.3333333333333333, 14, 0.0, False)\n",
            "\n",
            "Action:1\n",
            "Possible transitions:\n",
            "(0.3333333333333333, 5, 0.0, False)\n",
            "(0.3333333333333333, 14, 0.0, False)\n",
            "(0.3333333333333333, 7, 0.0, False)\n",
            "\n",
            "Action:2\n",
            "Possible transitions:\n",
            "(0.3333333333333333, 14, 0.0, False)\n",
            "(0.3333333333333333, 7, 0.0, False)\n",
            "(0.3333333333333333, 6, 0.0, False)\n",
            "\n",
            "Action:3\n",
            "Possible transitions:\n",
            "(0.3333333333333333, 7, 0.0, False)\n",
            "(0.3333333333333333, 6, 0.0, False)\n",
            "(0.3333333333333333, 5, 0.0, False)\n",
            "#############################################\n",
            "\n",
            "Sample state:24\n",
            "\n",
            "Action:0\n",
            "Possible transitions:\n",
            "(0.3333333333333333, 16, 0.0, False)\n",
            "(0.3333333333333333, 24, 0.0, False)\n",
            "(0.3333333333333333, 32, 0.0, False)\n",
            "\n",
            "Action:1\n",
            "Possible transitions:\n",
            "(0.3333333333333333, 24, 0.0, False)\n",
            "(0.3333333333333333, 32, 0.0, False)\n",
            "(0.3333333333333333, 25, 0.0, False)\n",
            "\n",
            "Action:2\n",
            "Possible transitions:\n",
            "(0.3333333333333333, 32, 0.0, False)\n",
            "(0.3333333333333333, 25, 0.0, False)\n",
            "(0.3333333333333333, 16, 0.0, False)\n",
            "\n",
            "Action:3\n",
            "Possible transitions:\n",
            "(0.3333333333333333, 25, 0.0, False)\n",
            "(0.3333333333333333, 16, 0.0, False)\n",
            "(0.3333333333333333, 24, 0.0, False)\n",
            "#############################################\n",
            "\n",
            "Sample state:31\n",
            "\n",
            "Action:0\n",
            "Possible transitions:\n",
            "(0.3333333333333333, 23, 0.0, False)\n",
            "(0.3333333333333333, 30, 0.0, False)\n",
            "(0.3333333333333333, 39, 0.0, False)\n",
            "\n",
            "Action:1\n",
            "Possible transitions:\n",
            "(0.3333333333333333, 30, 0.0, False)\n",
            "(0.3333333333333333, 39, 0.0, False)\n",
            "(0.3333333333333333, 31, 0.0, False)\n",
            "\n",
            "Action:2\n",
            "Possible transitions:\n",
            "(0.3333333333333333, 39, 0.0, False)\n",
            "(0.3333333333333333, 31, 0.0, False)\n",
            "(0.3333333333333333, 23, 0.0, False)\n",
            "\n",
            "Action:3\n",
            "Possible transitions:\n",
            "(0.3333333333333333, 31, 0.0, False)\n",
            "(0.3333333333333333, 23, 0.0, False)\n",
            "(0.3333333333333333, 30, 0.0, False)\n",
            "#############################################\n",
            "\n",
            "Sample state:24\n",
            "\n",
            "Action:0\n",
            "Possible transitions:\n",
            "(0.3333333333333333, 16, 0.0, False)\n",
            "(0.3333333333333333, 24, 0.0, False)\n",
            "(0.3333333333333333, 32, 0.0, False)\n",
            "\n",
            "Action:1\n",
            "Possible transitions:\n",
            "(0.3333333333333333, 24, 0.0, False)\n",
            "(0.3333333333333333, 32, 0.0, False)\n",
            "(0.3333333333333333, 25, 0.0, False)\n",
            "\n",
            "Action:2\n",
            "Possible transitions:\n",
            "(0.3333333333333333, 32, 0.0, False)\n",
            "(0.3333333333333333, 25, 0.0, False)\n",
            "(0.3333333333333333, 16, 0.0, False)\n",
            "\n",
            "Action:3\n",
            "Possible transitions:\n",
            "(0.3333333333333333, 25, 0.0, False)\n",
            "(0.3333333333333333, 16, 0.0, False)\n",
            "(0.3333333333333333, 24, 0.0, False)\n",
            "#############################################\n",
            "\n"
          ],
          "name": "stdout"
        }
      ]
    },
    {
      "cell_type": "markdown",
      "metadata": {
        "id": "Q4Ivo7HvkXjM"
      },
      "source": [
        "From the [Github source](https://github.com/openai/gym/blob/master/gym/envs/toy_text/frozen_lake.py), we know the action meanings are:\n",
        "\n",
        "* 0: left\n",
        "* 1: down\n",
        "* 2: right\n",
        "* 3: up\n",
        "\n",
        "Therefore, from these sample transitions, we might infer that the environment dynamics is as follows: after selecting an action a, there is 1/3 probability the agent will manage to do it, 1/3 it will end up executing action a-1 mod 4, and 1/3 it will end up doing action a+1 mod 4. These dynamics simulate slipping."
      ]
    },
    {
      "cell_type": "markdown",
      "metadata": {
        "id": "ue67YjG4Z5yc"
      },
      "source": [
        "## Implementing a Q-learning Agent class\n",
        "\n",
        "We will use the following $\\epsilon$ parameter schedule:\n",
        "$$\\epsilon(n)=\\epsilon_\\infty+(1-\\epsilon_\\infty)\\exp\\left(-\\frac{n}{n_d}\\right),$$\n",
        "\n",
        "or\n",
        "$$\\epsilon(n+1)=\\exp\\left(-\\frac{1}{n_d}\\right)\\epsilon(n)+\\left(1-\\exp\\left(-\\frac{1}{n_d}\\right)\\right) \\epsilon_\\infty, \\epsilon(0)=1,$$\n",
        "where $n$ is the number of episodes the agent has played, and $n_d$ is a decay constant. The goal here is to investigate to what extent the terminal exploration probability $\\epsilon_\\infty$ impacts the asymptotic performance.\n",
        "\n",
        "To set a reasonable value for $n_d$, we will follow this heuristic: the more complex the environment is, the more episodes the agent needs to learn something significant about each state-action value. The environment parameters that seem more relevant to characterize such environment complexity are the number of state-action pairs and possible transitions. Therefore, we estimate that the decay constant should be close to:\n",
        "$$n_d=env.nS*env.nA*\\bar{t}$$,\n",
        "where $\\bar{t}$ is the average number of possible transitions after taking some action."
      ]
    },
    {
      "cell_type": "markdown",
      "metadata": {
        "id": "muoNsYMRZDoL"
      },
      "source": [
        "We also note that similar reasoning applies to the learning rate: at the beginning, we want the agent to react strongly to recent rewards since it has no clue about the action values. However, we want the learning process to become smoother as the agent becomes more experienced so that the Q values estimates become stable. However, in general, we want a non-zero terminal value $\\alpha_\\infty$ because the agent should always be learning at a sensible rate in case the environment dynamics change.  \n",
        "\n",
        "Therefore, we will also implement a decaying learning rate with a simillar schedule:\n",
        "\n",
        "$$\\alpha(n)=\\alpha_\\infty+(1-\\alpha_\\infty)\\exp\\left(-\\frac{n}{n_d}\\right),$$\n",
        "\n",
        "or\n",
        "\n",
        "$$\\alpha(n+1)=\\exp\\left(-\\frac{1}{n_d}\\right)\\alpha(n)+\\left(1-\\exp\\left(-\\frac{1}{n_d}\\right)\\right) \\alpha_\\infty, \\alpha(0)=1,$$\n",
        "\n",
        "using the same decay constant of the $\\epsilon$ parameter for simplicity.\n",
        "\n",
        "The terminal values for these parameters are relevant in **non-stationary** environments because we always want exploration and learning at sensible rates to account for the changes in the environmental dynamics. \n",
        "\n",
        "However, in this case, we have a **stationary** environment, so that we set these terminal values to 0.0 as default and investigate the effects of non-zero values later on."
      ]
    },
    {
      "cell_type": "code",
      "metadata": {
        "id": "GJrdHWlaZn_D"
      },
      "source": [
        "class Q_learning_Agent():\n",
        "    def __init__(self, name, gamma=0.99, alpha_inf=0.0, epsilon_inf=0.0):\n",
        "        \"\"\"\n",
        "        Initialization of a Q-learning Agent.\n",
        "\n",
        "        Args:\n",
        "           name: the Agent name (string).\n",
        "           gamma: the Agent discount factor (float).\n",
        "           alpha_inf: the Agent asymptotic learning rate (float in [0,1]).\n",
        "           epsilon_inf: the Agent asymptotic exploratoin probability (float in [0,1])\n",
        "        \"\"\" \n",
        "        self.name=name \n",
        "        self.gamma=gamma\n",
        "        self.alpha_inf=alpha_inf\n",
        "        self.epsilon_inf=epsilon_inf\n",
        "        self.Q=None #the Agent Q table\n",
        "        self.history=None #list of the returns the agent obtains on each episode it has played.\n",
        "        self.nd=None\n",
        "        self.decay_factor=None \n",
        "        self.alpha=None\n",
        "        self.epsilon=None\n",
        "        self.previous_state=None\n",
        "        self.state=None\n",
        "        self.action=None\n",
        "    \n",
        "    def compute_nd(self, env):\n",
        "        t_avg=0\n",
        "        for state in range(env.nS):\n",
        "            for action in range(env.nA):\n",
        "                t_avg+=len(env.P[state][action])\n",
        "        t_avg=int(round(t_avg/(env.nS*env.nA)))\n",
        "        self.nd=t_avg*env.nA*env.nS\n",
        "    \n",
        "    def reset_to_env(self,env):\n",
        "        \"\"\"\n",
        "        Should be called whenever the Agent begins to learn how to play in some env.\n",
        "        \"\"\"\n",
        "        self.Q=np.zeros((env.nS,env.nA))\n",
        "        self.history=[]\n",
        "        self.compute_nd(env)\n",
        "        self.decay_factor=np.exp(-1/self.nd) # To avoid calling np.exp at every time step\n",
        "        self.alpha=1.0\n",
        "        self.epsilon=1.0\n",
        "\n",
        "    def play(self, env, episodes, view=False):\n",
        "        \"\"\"\n",
        "        Generates episodes of the agent-environment interaction.\n",
        "        \"\"\"\n",
        "        for _ in range(episodes):\n",
        "            self.previous_state=None\n",
        "            self.state = env.reset() #set the initial state\n",
        "            time_step=0\n",
        "            episode_return=0.0\n",
        "            \n",
        "            while True:\n",
        "                if view:\n",
        "                    env.render()\n",
        "                #select an action (a)\n",
        "                if np.random.rand()<self.epsilon:\n",
        "                    self.action=np.random.choice(env.nA)\n",
        "                else:\n",
        "                    #argmax with random breaking ties\n",
        "                    self.action=np.random.choice(np.flatnonzero(self.Q[self.state]==np.amax(self.Q[self.state]))) \n",
        "\n",
        "                # Perform the action (a) and observe the outcome state(s') and reward (r)\n",
        "                self.previous_state=self.state\n",
        "                self.state, reward, done, info = env.step(self.action)\n",
        "            \n",
        "                #update episode_return\n",
        "                episode_return+=reward*self.gamma**time_step\n",
        "\n",
        "                # Update the Q table using the Bellman equation: Q(s,a):= Q(s,a) + lr [R(s,a) + gamma * max Q(s',a') - Q(s,a)]\n",
        "                self.Q[self.previous_state][self.action]+=self.alpha*\\\n",
        "                (reward+self.gamma*np.amax(self.Q[self.state])-self.Q[self.previous_state][self.action])       \n",
        "              \n",
        "                #until reaching a terminal state\n",
        "                if done == True:\n",
        "                    break\n",
        "                time_step+=1\n",
        "\n",
        "            self.epsilon=self.decay_factor*self.epsilon+(1.0-self.decay_factor)*self.epsilon_inf#exponential epsilon decay\n",
        "            self.alpha=self.decay_factor*self.alpha+(1.0-self.decay_factor)*self.alpha_inf #exponential alpha decay\n",
        "\n",
        "            self.history.append(episode_return) #save return to agents history\n"
      ],
      "execution_count": 13,
      "outputs": []
    },
    {
      "cell_type": "markdown",
      "metadata": {
        "id": "RSKfKurqIVad"
      },
      "source": [
        "## Tracking the learning process of Olaf, a FrozenLake Q-learning agent"
      ]
    },
    {
      "cell_type": "code",
      "metadata": {
        "id": "6CqL-kBXV6Z4"
      },
      "source": [
        "def view_performance_history(agents_list, env, weight=None, episodes=None):\n",
        "    \"\"\"\n",
        "    Agent plays some episodes, then itsperformance history is visualized, where performance is\n",
        "    defined as an exponentially weighted moving average of the agent returns.\n",
        "\n",
        "    This process is done for each agent in agents_list\n",
        "\n",
        "    \"\"\"\n",
        "    for agent in agents_list:\n",
        "        \n",
        "        agent.reset_to_env(env)\n",
        "\n",
        "        if weight is None:\n",
        "            weight=1.0-agent.decay_factor # makes the EWA have the same decay constant of the agents parameters\n",
        "        if episodes is None:\n",
        "            episodes=12*agent.nd # 6 nd to ensure exploration has already finished, more 6 nd for the EWA converge to its target value\n",
        "    \n",
        "        agent.play(env=env,episodes=episodes)\n",
        "        performances_list=[agent.history[0]]\n",
        "        for episode_return in agent.history[1:]:\n",
        "            performances_list.append(weight*episode_return+(1.0-weight)*performances_list[-1])\n",
        "        plt.plot(1+np.array(range(len(performances_list))).astype(int), performances_list,'.')\n",
        "    plt.xlabel('Episodes played')\n",
        "    plt.ylabel('Performance')\n",
        "    plt.title(\"Performance history\")\n",
        "    plt.legend([agent.name for agent in agents_list ])\n",
        "    plt.show()"
      ],
      "execution_count": 15,
      "outputs": []
    },
    {
      "cell_type": "code",
      "metadata": {
        "id": "aDOnRG6ifBz3",
        "colab": {
          "base_uri": "https://localhost:8080/",
          "height": 295
        },
        "outputId": "4a588cc5-6372-4639-cb7b-5f2473fc76df"
      },
      "source": [
        "Olaf=Q_learning_Agent(name='Olaf')\n",
        "view_performance_history(agents_list=[Olaf], env=env)"
      ],
      "execution_count": 16,
      "outputs": [
        {
          "output_type": "display_data",
          "data": {
            "image/png": "[encoded data removed]",
            "text/plain": [
              "<Figure size 432x288 with 1 Axes>"
            ]
          },
          "metadata": {
            "tags": [],
            "needs_background": "light"
          }
        }
      ]
    },
    {
      "cell_type": "markdown",
      "metadata": {
        "id": "JEQn0VPvei0K"
      },
      "source": [
        "The asymptotic performance of Olaf is around $P=0.4$. Since the return for a single goal achieved episode is $\\gamma^T$, where $T$ is the number of time_steps needed for completion, we can see that, on average, Olaf takes $T=\\frac{\\log(P)}{\\log(\\gamma)}\\approx 91$ time steps to achieve the goal when playing on its maximum skill level. \n",
        "\n",
        "In comparison, if this were a deterministic GridWorld environment, it would take 14 time steps for an optimal agent to finish the task!"
      ]
    },
    {
      "cell_type": "markdown",
      "metadata": {
        "id": "Moz5yhMrhnSA"
      },
      "source": [
        "## Performance impact of asymptotic exploration probabilities."
      ]
    },
    {
      "cell_type": "code",
      "metadata": {
        "colab": {
          "base_uri": "https://localhost:8080/",
          "height": 295
        },
        "id": "DDKqNvKMi9hU",
        "outputId": "11c17225-290f-4f14-d663-f2325588e87b"
      },
      "source": [
        "agents_list=[]\n",
        "for epsilon in np.logspace(-3,-1,num=5, endpoint=True):\n",
        "    agents_list.append(Q_learning_Agent(name='epsilon_inf='+str(round(epsilon,3)),epsilon_inf=epsilon))\n",
        "\n",
        "view_performance_history(agents_list=agents_list, env=env)"
      ],
      "execution_count": 17,
      "outputs": [
        {
          "output_type": "display_data",
          "data": {
            "image/png": "[encoded data removed]",
            "text/plain": [
              "<Figure size 432x288 with 1 Axes>"
            ]
          },
          "metadata": {
            "tags": [],
            "needs_background": "light"
          }
        }
      ]
    },
    {
      "cell_type": "markdown",
      "metadata": {
        "id": "oT_It7mKTks2"
      },
      "source": [
        "We see a clear trend in performance degradation when $\\epsilon_{\\infty}\\neq 0$, in spite of the exceptionally bad run for $\\epsilon_{\\infty}=0,3\\%$. However, at least for this problem, this degradation only becomes significant for $\\epsilon_{\\infty}\\approx 3\\%$. "
      ]
    },
    {
      "cell_type": "markdown",
      "metadata": {
        "id": "56Gj7VyHUU9i"
      },
      "source": [
        "## Performance impact of asymptotic learning rates."
      ]
    },
    {
      "cell_type": "code",
      "metadata": {
        "colab": {
          "base_uri": "https://localhost:8080/",
          "height": 295
        },
        "id": "F9K-7lMLUcgr",
        "outputId": "82f490c2-a254-49e2-a6d0-391af2bdf93e"
      },
      "source": [
        "agents_list=[]\n",
        "for alpha in np.logspace(-2,0,num=5, endpoint=False):\n",
        "    agents_list.append(Q_learning_Agent(name='alpha_inf='+str(round(alpha,3)),alpha_inf=alpha))\n",
        "\n",
        "view_performance_history(agents_list=agents_list, env=env)"
      ],
      "execution_count": 18,
      "outputs": [
        {
          "output_type": "display_data",
          "data": {
            "image/png": "[encoded data removed]",
            "text/plain": [
              "<Figure size 432x288 with 1 Axes>"
            ]
          },
          "metadata": {
            "tags": [],
            "needs_background": "light"
          }
        }
      ]
    },
    {
      "cell_type": "markdown",
      "metadata": {
        "id": "GSev_SUUYxPk"
      },
      "source": [
        "In contrast to the $\\epsilon_\\infty$ parameter, a non-zero $\\alpha_\\infty$ practically does not hurt performance, although for large values ($> 20\\%$) the agent becomes much less sample efficient."
      ]
    },
    {
      "cell_type": "markdown",
      "metadata": {
        "id": "QCceSb4fod82"
      },
      "source": [
        "## Conclusions"
      ]
    },
    {
      "cell_type": "markdown",
      "metadata": {
        "id": "btnsvfNLrT42"
      },
      "source": [
        "* We demonstrated that a terminal exploration degrades asymptotic performance, although this effect became significant only for $\\epsilon_\\infty$ around $3\\%$ or better in this study.\n",
        "\n",
        "* In contrast, the $\\alpha_\\infty$ parameter did not affect the asymptotic performance, but large values significantly diminish sample efficiency.\n",
        "\n",
        "* The heuristic $n_d=env.nS*env.nA*\\bar{t}$ turned out to work quite well, at least in this task. Of course, it will have limitations for larger environments. Nevertheless, even in those cases, it might be useful as a baseline to think about how long it will take for the agent to master a certain environment."
      ]
    }
  ]
}